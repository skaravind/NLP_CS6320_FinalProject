{
 "cells": [
  {
   "cell_type": "markdown",
   "metadata": {},
   "source": [
    "# Emotion Detection from text using NLP"
   ]
  },
  {
   "cell_type": "code",
   "execution_count": 67,
   "metadata": {},
   "outputs": [],
   "source": [
    "import json\n",
    "import pandas as pd\n",
    "import numpy as np\n",
    "%matplotlib inline\n",
    "import matplotlib.pyplot as plt\n"
   ]
  },
  {
   "cell_type": "code",
   "execution_count": 2,
   "metadata": {},
   "outputs": [],
   "source": [
    "df = pd.read_json(\"nlp_train.json\")"
   ]
  },
  {
   "cell_type": "code",
   "execution_count": 3,
   "metadata": {},
   "outputs": [],
   "source": [
    "df = df.transpose()"
   ]
  },
  {
   "cell_type": "code",
   "execution_count": 128,
   "metadata": {},
   "outputs": [
    {
     "data": {
      "text/html": [
       "<div>\n",
       "<style scoped>\n",
       "    .dataframe tbody tr th:only-of-type {\n",
       "        vertical-align: middle;\n",
       "    }\n",
       "\n",
       "    .dataframe tbody tr th {\n",
       "        vertical-align: top;\n",
       "    }\n",
       "\n",
       "    .dataframe thead th {\n",
       "        text-align: right;\n",
       "    }\n",
       "</style>\n",
       "<table border=\"1\" class=\"dataframe\">\n",
       "  <thead>\n",
       "    <tr style=\"text-align: right;\">\n",
       "      <th></th>\n",
       "      <th>body</th>\n",
       "      <th>subreddit</th>\n",
       "      <th>created_utc</th>\n",
       "      <th>author</th>\n",
       "      <th>link_id</th>\n",
       "      <th>parent_id</th>\n",
       "      <th>emotion</th>\n",
       "      <th>complete</th>\n",
       "    </tr>\n",
       "  </thead>\n",
       "  <tbody>\n",
       "    <tr>\n",
       "      <th>0</th>\n",
       "      <td>answering question criticism individual referr...</td>\n",
       "      <td>worldnews</td>\n",
       "      <td>1584474347</td>\n",
       "      <td>lostdoty13</td>\n",
       "      <td>t3_fkb1jo</td>\n",
       "      <td>t1_fkrog8a</td>\n",
       "      <td>{'anger': True, 'anticipation': False, 'disgus...</td>\n",
       "      <td>True</td>\n",
       "    </tr>\n",
       "    <tr>\n",
       "      <th>1</th>\n",
       "      <td>going start today discussion thread personal o...</td>\n",
       "      <td>CoronavirusCA</td>\n",
       "      <td>1583695737</td>\n",
       "      <td>ErikCavey</td>\n",
       "      <td>t3_ffhe1g</td>\n",
       "      <td>t3_ffhe1g</td>\n",
       "      <td>{'anger': True, 'anticipation': True, 'disgust...</td>\n",
       "      <td>False</td>\n",
       "    </tr>\n",
       "    <tr>\n",
       "      <th>2</th>\n",
       "      <td>announcing  self quarantined paints picture ma...</td>\n",
       "      <td>Coronavirus</td>\n",
       "      <td>1582324871</td>\n",
       "      <td>jimkurth81</td>\n",
       "      <td>t3_f76ab0</td>\n",
       "      <td>t1_fiaxs2j</td>\n",
       "      <td>{'anger': True, 'anticipation': True, 'disgust...</td>\n",
       "      <td>False</td>\n",
       "    </tr>\n",
       "    <tr>\n",
       "      <th>3</th>\n",
       "      <td>likewise sorry offended actually immunocomprom...</td>\n",
       "      <td>China_Flu</td>\n",
       "      <td>1583140191</td>\n",
       "      <td>DickGrimes79</td>\n",
       "      <td>t3_fc8ar8</td>\n",
       "      <td>t1_fj9aaqt</td>\n",
       "      <td>{'anger': True, 'anticipation': False, 'disgus...</td>\n",
       "      <td>False</td>\n",
       "    </tr>\n",
       "    <tr>\n",
       "      <th>4</th>\n",
       "      <td>people infected experience high fever cough sh...</td>\n",
       "      <td>worldnews</td>\n",
       "      <td>1583741759</td>\n",
       "      <td>Fresherty</td>\n",
       "      <td>t3_ffebea</td>\n",
       "      <td>t1_fjzd331</td>\n",
       "      <td>{'anger': False, 'anticipation': False, 'disgu...</td>\n",
       "      <td>False</td>\n",
       "    </tr>\n",
       "  </tbody>\n",
       "</table>\n",
       "</div>"
      ],
      "text/plain": [
       "                                                body      subreddit  \\\n",
       "0  answering question criticism individual referr...      worldnews   \n",
       "1  going start today discussion thread personal o...  CoronavirusCA   \n",
       "2  announcing  self quarantined paints picture ma...    Coronavirus   \n",
       "3  likewise sorry offended actually immunocomprom...      China_Flu   \n",
       "4  people infected experience high fever cough sh...      worldnews   \n",
       "\n",
       "  created_utc        author    link_id   parent_id  \\\n",
       "0  1584474347    lostdoty13  t3_fkb1jo  t1_fkrog8a   \n",
       "1  1583695737     ErikCavey  t3_ffhe1g   t3_ffhe1g   \n",
       "2  1582324871    jimkurth81  t3_f76ab0  t1_fiaxs2j   \n",
       "3  1583140191  DickGrimes79  t3_fc8ar8  t1_fj9aaqt   \n",
       "4  1583741759     Fresherty  t3_ffebea  t1_fjzd331   \n",
       "\n",
       "                                             emotion complete  \n",
       "0  {'anger': True, 'anticipation': False, 'disgus...     True  \n",
       "1  {'anger': True, 'anticipation': True, 'disgust...    False  \n",
       "2  {'anger': True, 'anticipation': True, 'disgust...    False  \n",
       "3  {'anger': True, 'anticipation': False, 'disgus...    False  \n",
       "4  {'anger': False, 'anticipation': False, 'disgu...    False  "
      ]
     },
     "execution_count": 128,
     "metadata": {},
     "output_type": "execute_result"
    }
   ],
   "source": [
    "df.head()"
   ]
  },
  {
   "cell_type": "markdown",
   "metadata": {},
   "source": [
    "## Text Preprocessing"
   ]
  },
  {
   "cell_type": "code",
   "execution_count": 4,
   "metadata": {},
   "outputs": [],
   "source": [
    "import re\n",
    "from nltk.corpus import stopwords\n",
    "df = df.reset_index(drop=True)\n",
    "REPLACE_BY_SPACE_RE = re.compile('[/(){}\\[\\]\\|@,;]')\n",
    "BAD_SYMBOLS_RE = re.compile('[^0-9a-zA-Z#+_]')\n",
    "STOPWORDS = set(stopwords.words('english'))\n",
    "\n",
    "def clean_text(text):\n",
    "    \"\"\"\n",
    "    Clean text by removing stopwords and unwanted symbols.\n",
    "    \"\"\"\n",
    "    text = text.lower()\n",
    "    text = REPLACE_BY_SPACE_RE.sub(' ', text) # replace REPLACE_BY_SPACE_RE symbols by space in text. substitute the matched string in REPLACE_BY_SPACE_RE with space.\n",
    "    text = BAD_SYMBOLS_RE.sub(' ', text) # remove symbols which are in BAD_SYMBOLS_RE from text. substitute the matched string in BAD_SYMBOLS_RE with nothing. \n",
    "    text = ' '.join(word for word in text.split() if word not in STOPWORDS) # remove stopwors from text\n",
    "    return text\n",
    "df['body'] = df['body'].apply(clean_text)\n",
    "df['body'] = df['body'].str.replace('\\d+', '')"
   ]
  },
  {
   "cell_type": "code",
   "execution_count": 129,
   "metadata": {},
   "outputs": [
    {
     "data": {
      "text/plain": [
       "0       {'anger': True, 'anticipation': False, 'disgus...\n",
       "1       {'anger': True, 'anticipation': True, 'disgust...\n",
       "2       {'anger': True, 'anticipation': True, 'disgust...\n",
       "3       {'anger': True, 'anticipation': False, 'disgus...\n",
       "4       {'anger': False, 'anticipation': False, 'disgu...\n",
       "                              ...                        \n",
       "1488    {'anger': True, 'anticipation': False, 'disgus...\n",
       "1489    {'anger': True, 'anticipation': False, 'disgus...\n",
       "1490    {'anger': False, 'anticipation': True, 'disgus...\n",
       "1491    {'anger': False, 'anticipation': True, 'disgus...\n",
       "1492    {'anger': False, 'anticipation': False, 'disgu...\n",
       "Name: emotion, Length: 1493, dtype: object"
      ]
     },
     "execution_count": 129,
     "metadata": {},
     "output_type": "execute_result"
    }
   ],
   "source": [
    "df['emotion']"
   ]
  },
  {
   "cell_type": "markdown",
   "metadata": {},
   "source": [
    "#### Lets parse the emotion field as it is in its own JSON form"
   ]
  },
  {
   "cell_type": "code",
   "execution_count": 130,
   "metadata": {},
   "outputs": [],
   "source": [
    "from collections import defaultdict\n",
    "y = defaultdict(list)\n",
    "for i, post in enumerate(df['emotion']):\n",
    "    for emotion in post:\n",
    "        if df['emotion'][i][emotion]:\n",
    "            y[emotion].append(1)\n",
    "        else:\n",
    "            y[emotion].append(0)"
   ]
  },
  {
   "cell_type": "code",
   "execution_count": 131,
   "metadata": {},
   "outputs": [],
   "source": [
    "labels = pd.DataFrame(y)"
   ]
  },
  {
   "cell_type": "code",
   "execution_count": 132,
   "metadata": {},
   "outputs": [
    {
     "data": {
      "text/html": [
       "<div>\n",
       "<style scoped>\n",
       "    .dataframe tbody tr th:only-of-type {\n",
       "        vertical-align: middle;\n",
       "    }\n",
       "\n",
       "    .dataframe tbody tr th {\n",
       "        vertical-align: top;\n",
       "    }\n",
       "\n",
       "    .dataframe thead th {\n",
       "        text-align: right;\n",
       "    }\n",
       "</style>\n",
       "<table border=\"1\" class=\"dataframe\">\n",
       "  <thead>\n",
       "    <tr style=\"text-align: right;\">\n",
       "      <th></th>\n",
       "      <th>anger</th>\n",
       "      <th>anticipation</th>\n",
       "      <th>disgust</th>\n",
       "      <th>fear</th>\n",
       "      <th>joy</th>\n",
       "      <th>love</th>\n",
       "      <th>optimism</th>\n",
       "      <th>pessimism</th>\n",
       "      <th>sadness</th>\n",
       "      <th>surprise</th>\n",
       "      <th>trust</th>\n",
       "      <th>neutral</th>\n",
       "    </tr>\n",
       "  </thead>\n",
       "  <tbody>\n",
       "    <tr>\n",
       "      <th>0</th>\n",
       "      <td>1</td>\n",
       "      <td>0</td>\n",
       "      <td>1</td>\n",
       "      <td>0</td>\n",
       "      <td>0</td>\n",
       "      <td>0</td>\n",
       "      <td>0</td>\n",
       "      <td>1</td>\n",
       "      <td>0</td>\n",
       "      <td>0</td>\n",
       "      <td>0</td>\n",
       "      <td>0</td>\n",
       "    </tr>\n",
       "    <tr>\n",
       "      <th>1</th>\n",
       "      <td>1</td>\n",
       "      <td>1</td>\n",
       "      <td>1</td>\n",
       "      <td>1</td>\n",
       "      <td>0</td>\n",
       "      <td>0</td>\n",
       "      <td>0</td>\n",
       "      <td>1</td>\n",
       "      <td>0</td>\n",
       "      <td>0</td>\n",
       "      <td>0</td>\n",
       "      <td>0</td>\n",
       "    </tr>\n",
       "    <tr>\n",
       "      <th>2</th>\n",
       "      <td>1</td>\n",
       "      <td>1</td>\n",
       "      <td>1</td>\n",
       "      <td>1</td>\n",
       "      <td>0</td>\n",
       "      <td>0</td>\n",
       "      <td>0</td>\n",
       "      <td>1</td>\n",
       "      <td>0</td>\n",
       "      <td>0</td>\n",
       "      <td>0</td>\n",
       "      <td>0</td>\n",
       "    </tr>\n",
       "    <tr>\n",
       "      <th>3</th>\n",
       "      <td>1</td>\n",
       "      <td>0</td>\n",
       "      <td>1</td>\n",
       "      <td>1</td>\n",
       "      <td>0</td>\n",
       "      <td>0</td>\n",
       "      <td>0</td>\n",
       "      <td>1</td>\n",
       "      <td>0</td>\n",
       "      <td>0</td>\n",
       "      <td>0</td>\n",
       "      <td>0</td>\n",
       "    </tr>\n",
       "    <tr>\n",
       "      <th>4</th>\n",
       "      <td>0</td>\n",
       "      <td>0</td>\n",
       "      <td>0</td>\n",
       "      <td>0</td>\n",
       "      <td>0</td>\n",
       "      <td>0</td>\n",
       "      <td>0</td>\n",
       "      <td>0</td>\n",
       "      <td>0</td>\n",
       "      <td>0</td>\n",
       "      <td>0</td>\n",
       "      <td>1</td>\n",
       "    </tr>\n",
       "    <tr>\n",
       "      <th>...</th>\n",
       "      <td>...</td>\n",
       "      <td>...</td>\n",
       "      <td>...</td>\n",
       "      <td>...</td>\n",
       "      <td>...</td>\n",
       "      <td>...</td>\n",
       "      <td>...</td>\n",
       "      <td>...</td>\n",
       "      <td>...</td>\n",
       "      <td>...</td>\n",
       "      <td>...</td>\n",
       "      <td>...</td>\n",
       "    </tr>\n",
       "    <tr>\n",
       "      <th>1488</th>\n",
       "      <td>1</td>\n",
       "      <td>0</td>\n",
       "      <td>1</td>\n",
       "      <td>1</td>\n",
       "      <td>0</td>\n",
       "      <td>0</td>\n",
       "      <td>0</td>\n",
       "      <td>1</td>\n",
       "      <td>1</td>\n",
       "      <td>0</td>\n",
       "      <td>0</td>\n",
       "      <td>0</td>\n",
       "    </tr>\n",
       "    <tr>\n",
       "      <th>1489</th>\n",
       "      <td>1</td>\n",
       "      <td>0</td>\n",
       "      <td>1</td>\n",
       "      <td>1</td>\n",
       "      <td>0</td>\n",
       "      <td>0</td>\n",
       "      <td>0</td>\n",
       "      <td>0</td>\n",
       "      <td>1</td>\n",
       "      <td>0</td>\n",
       "      <td>0</td>\n",
       "      <td>0</td>\n",
       "    </tr>\n",
       "    <tr>\n",
       "      <th>1490</th>\n",
       "      <td>0</td>\n",
       "      <td>1</td>\n",
       "      <td>0</td>\n",
       "      <td>1</td>\n",
       "      <td>0</td>\n",
       "      <td>0</td>\n",
       "      <td>1</td>\n",
       "      <td>0</td>\n",
       "      <td>0</td>\n",
       "      <td>0</td>\n",
       "      <td>1</td>\n",
       "      <td>0</td>\n",
       "    </tr>\n",
       "    <tr>\n",
       "      <th>1491</th>\n",
       "      <td>0</td>\n",
       "      <td>1</td>\n",
       "      <td>0</td>\n",
       "      <td>1</td>\n",
       "      <td>0</td>\n",
       "      <td>0</td>\n",
       "      <td>0</td>\n",
       "      <td>0</td>\n",
       "      <td>1</td>\n",
       "      <td>0</td>\n",
       "      <td>0</td>\n",
       "      <td>0</td>\n",
       "    </tr>\n",
       "    <tr>\n",
       "      <th>1492</th>\n",
       "      <td>0</td>\n",
       "      <td>0</td>\n",
       "      <td>0</td>\n",
       "      <td>0</td>\n",
       "      <td>0</td>\n",
       "      <td>0</td>\n",
       "      <td>0</td>\n",
       "      <td>0</td>\n",
       "      <td>0</td>\n",
       "      <td>0</td>\n",
       "      <td>0</td>\n",
       "      <td>0</td>\n",
       "    </tr>\n",
       "  </tbody>\n",
       "</table>\n",
       "<p>1493 rows × 12 columns</p>\n",
       "</div>"
      ],
      "text/plain": [
       "      anger  anticipation  disgust  fear  joy  love  optimism  pessimism  \\\n",
       "0         1             0        1     0    0     0         0          1   \n",
       "1         1             1        1     1    0     0         0          1   \n",
       "2         1             1        1     1    0     0         0          1   \n",
       "3         1             0        1     1    0     0         0          1   \n",
       "4         0             0        0     0    0     0         0          0   \n",
       "...     ...           ...      ...   ...  ...   ...       ...        ...   \n",
       "1488      1             0        1     1    0     0         0          1   \n",
       "1489      1             0        1     1    0     0         0          0   \n",
       "1490      0             1        0     1    0     0         1          0   \n",
       "1491      0             1        0     1    0     0         0          0   \n",
       "1492      0             0        0     0    0     0         0          0   \n",
       "\n",
       "      sadness  surprise  trust  neutral  \n",
       "0           0         0      0        0  \n",
       "1           0         0      0        0  \n",
       "2           0         0      0        0  \n",
       "3           0         0      0        0  \n",
       "4           0         0      0        1  \n",
       "...       ...       ...    ...      ...  \n",
       "1488        1         0      0        0  \n",
       "1489        1         0      0        0  \n",
       "1490        0         0      1        0  \n",
       "1491        1         0      0        0  \n",
       "1492        0         0      0        0  \n",
       "\n",
       "[1493 rows x 12 columns]"
      ]
     },
     "execution_count": 132,
     "metadata": {},
     "output_type": "execute_result"
    }
   ],
   "source": [
    "labels"
   ]
  },
  {
   "cell_type": "markdown",
   "metadata": {},
   "source": [
    "### Tokenizing input text"
   ]
  },
  {
   "cell_type": "code",
   "execution_count": 49,
   "metadata": {},
   "outputs": [
    {
     "name": "stdout",
     "output_type": "stream",
     "text": [
      "Found 28327 unique tokens.\n"
     ]
    }
   ],
   "source": [
    "from keras.preprocessing.text import Tokenizer\n",
    "\n",
    "# The maximum number of words to be used. (most frequent)\n",
    "MAX_NB_WORDS = 50000\n",
    "# Max number of words in each post\n",
    "MAX_SEQUENCE_LENGTH = 100\n",
    "\n",
    "EMBEDDING_DIM = 100\n",
    "tokenizer = Tokenizer(num_words=MAX_NB_WORDS, filters='!\"#$%&()*+,-./:;<=>?@[\\]^_`{|}~', lower=True)\n",
    "tokenizer.fit_on_texts(df['body'].values)\n",
    "word_index = tokenizer.word_index\n",
    "print('Found %s unique tokens.' % len(word_index))"
   ]
  },
  {
   "cell_type": "code",
   "execution_count": 50,
   "metadata": {},
   "outputs": [
    {
     "name": "stdout",
     "output_type": "stream",
     "text": [
      "Shape of data: (1493, 400)\n"
     ]
    }
   ],
   "source": [
    "from keras.preprocessing.sequence import pad_sequences\n",
    "X = tokenizer.texts_to_sequences(df['body'].values)\n",
    "X = pad_sequences(X, maxlen=MAX_SEQUENCE_LENGTH)\n",
    "print('Shape of data:', X.shape)"
   ]
  },
  {
   "cell_type": "code",
   "execution_count": 51,
   "metadata": {},
   "outputs": [
    {
     "name": "stdout",
     "output_type": "stream",
     "text": [
      "Shape of labels: (1493, 12)\n"
     ]
    }
   ],
   "source": [
    "y = labels.values\n",
    "print('Shape of labels:', y.shape)"
   ]
  },
  {
   "cell_type": "code",
   "execution_count": 52,
   "metadata": {},
   "outputs": [],
   "source": [
    "#subreddits = pd.get_dummies(df[\"subreddit\"]).values"
   ]
  },
  {
   "cell_type": "code",
   "execution_count": 53,
   "metadata": {},
   "outputs": [],
   "source": [
    "#X = np.concatenate((X, subreddits), axis=1)"
   ]
  },
  {
   "cell_type": "markdown",
   "metadata": {},
   "source": [
    "TRAIN-TEST SPLIT"
   ]
  },
  {
   "cell_type": "code",
   "execution_count": 54,
   "metadata": {},
   "outputs": [],
   "source": [
    "from sklearn.model_selection import train_test_split\n",
    "\n",
    "x_train, x_test, y_train, y_test = train_test_split(X, y, test_size = 0.10, random_state = 42)"
   ]
  },
  {
   "cell_type": "markdown",
   "metadata": {},
   "source": [
    "### The LSTM model"
   ]
  },
  {
   "cell_type": "code",
   "execution_count": 55,
   "metadata": {},
   "outputs": [
    {
     "name": "stdout",
     "output_type": "stream",
     "text": [
      "Train on 1141 samples, validate on 202 samples\n",
      "Epoch 1/25\n",
      "1141/1141 [==============================] - 21s 18ms/step - loss: 0.6295 - acc: 0.6784 - val_loss: 0.5421 - val_acc: 0.7059\n",
      "Epoch 2/25\n",
      "1141/1141 [==============================] - 18s 15ms/step - loss: 0.5445 - acc: 0.7087 - val_loss: 0.5407 - val_acc: 0.7083\n",
      "Epoch 3/25\n",
      "1141/1141 [==============================] - 18s 16ms/step - loss: 0.5399 - acc: 0.7176 - val_loss: 0.5390 - val_acc: 0.7092\n",
      "Epoch 4/25\n",
      "1141/1141 [==============================] - 18s 16ms/step - loss: 0.5365 - acc: 0.7236 - val_loss: 0.5385 - val_acc: 0.7042\n",
      "Epoch 5/25\n",
      "1141/1141 [==============================] - 18s 16ms/step - loss: 0.5301 - acc: 0.7317 - val_loss: 0.5348 - val_acc: 0.7104\n",
      "Epoch 6/25\n",
      "1141/1141 [==============================] - 18s 15ms/step - loss: 0.5116 - acc: 0.7565 - val_loss: 0.5241 - val_acc: 0.7252\n",
      "Epoch 7/25\n",
      "1141/1141 [==============================] - 19s 17ms/step - loss: 0.4718 - acc: 0.7843 - val_loss: 0.5256 - val_acc: 0.7281\n",
      "Epoch 8/25\n",
      "1141/1141 [==============================] - 18s 16ms/step - loss: 0.4152 - acc: 0.8204 - val_loss: 0.5242 - val_acc: 0.7471\n",
      "Epoch 9/25\n",
      "1141/1141 [==============================] - 18s 16ms/step - loss: 0.3703 - acc: 0.8445 - val_loss: 0.5500 - val_acc: 0.7401\n"
     ]
    }
   ],
   "source": [
    "from keras import Sequential\n",
    "from keras.layers import LSTM, Dense, Embedding, SpatialDropout1D\n",
    "from keras.callbacks import EarlyStopping\n",
    "from keras.losses import KLD\n",
    "\n",
    "model = Sequential()\n",
    "model.add(Embedding(MAX_NB_WORDS, EMBEDDING_DIM, input_length=X.shape[1]))\n",
    "model.add(SpatialDropout1D(0.2))\n",
    "model.add(LSTM(150, dropout=0.2, recurrent_dropout=0.2))\n",
    "model.add(Dense(12, activation='sigmoid'))\n",
    "model.compile(loss=\"binary_crossentropy\", optimizer='adam', metrics=['accuracy'])\n",
    "\n",
    "epochs = 25\n",
    "batch_size = 64\n",
    "\n",
    "history = model.fit(x_train, y_train, epochs=epochs, batch_size=batch_size,validation_split=0.15,callbacks=[EarlyStopping(monitor='val_loss', patience=3, min_delta=0.0001)])"
   ]
  },
  {
   "cell_type": "code",
   "execution_count": 127,
   "metadata": {},
   "outputs": [
    {
     "name": "stdout",
     "output_type": "stream",
     "text": [
      "_________________________________________________________________\n",
      "Layer (type)                 Output Shape              Param #   \n",
      "=================================================================\n",
      "embedding_7 (Embedding)      (None, 400, 100)          5000000   \n",
      "_________________________________________________________________\n",
      "spatial_dropout1d_7 (Spatial (None, 400, 100)          0         \n",
      "_________________________________________________________________\n",
      "lstm_7 (LSTM)                (None, 150)               150600    \n",
      "_________________________________________________________________\n",
      "dense_7 (Dense)              (None, 12)                1812      \n",
      "=================================================================\n",
      "Total params: 5,152,412\n",
      "Trainable params: 5,152,412\n",
      "Non-trainable params: 0\n",
      "_________________________________________________________________\n"
     ]
    }
   ],
   "source": [
    "model.summary()"
   ]
  },
  {
   "cell_type": "code",
   "execution_count": 56,
   "metadata": {},
   "outputs": [
    {
     "name": "stdout",
     "output_type": "stream",
     "text": [
      "150/150 [==============================] - 1s 5ms/step\n",
      "Test set\n",
      "  Loss: 0.556\n",
      "  Accuracy: 0.749\n"
     ]
    }
   ],
   "source": [
    "accr = model.evaluate(x_test,y_test)\n",
    "print('Test set\\n  Loss: {:0.3f}\\n  Accuracy: {:0.3f}'.format(accr[0],accr[1]))"
   ]
  },
  {
   "cell_type": "markdown",
   "metadata": {},
   "source": [
    "#### Test Accuracy = 74.9%"
   ]
  },
  {
   "cell_type": "markdown",
   "metadata": {},
   "source": [
    "## Prediction from given text and plotting probabilities"
   ]
  },
  {
   "cell_type": "code",
   "execution_count": 112,
   "metadata": {},
   "outputs": [],
   "source": [
    "def prediction_graph(preds):\n",
    "    \"\"\"\n",
    "    draw the graph of prediction probabilities\n",
    "    \"\"\"\n",
    "    plt.rcdefaults()\n",
    "    fig, ax = plt.subplots()\n",
    "    \n",
    "    emotions = list(labels.columns)\n",
    "    y_pos = np.arange(len(emotions))\n",
    "\n",
    "    ax.barh(y_pos, preds[0], align='center')\n",
    "    ax.plot([0.5]*14,np.arange(-1,13), 'g--')\n",
    "    ax.set_yticks(y_pos)\n",
    "    ax.set_yticklabels(emotions)\n",
    "    ax.invert_yaxis()  # labels read top-to-bottom\n",
    "    ax.set_xlabel('Probability')\n",
    "    ax.set_title('Emotion Prediction')\n",
    "\n",
    "    plt.show()\n",
    "\n",
    "\n",
    "def give_prediction_from_text(text):\n",
    "    \"\"\"\n",
    "    Helper function for giving prediction from text directly\n",
    "    \"\"\"\n",
    "    text = clean_text(text)\n",
    "    testcase = tokenizer.texts_to_sequences([text])\n",
    "    testcase = pad_sequences(testcase, maxlen=MAX_SEQUENCE_LENGTH)\n",
    "    predictions = model.predict(testcase)\n",
    "    prediction_graph(predictions)"
   ]
  },
  {
   "cell_type": "code",
   "execution_count": 114,
   "metadata": {},
   "outputs": [],
   "source": [
    "text = \"Likewise, sorry if I offended you. I’m not actually immunocompromised, \\\n",
    "but my lungs have collapsed several times due to pneumonia. I didn’t mean to get \\\n",
    "defensive, it’s just that during this corona crisis I’ve had so many people say that \\\n",
    "people who panic or are afraid are ridiculous, alarmist, paranoid, weak-willed, \\\n",
    "fear-mongerers or - my personal favorite - fascists. You get sick of people telling \\\n",
    "you to relax and stop worrying. Without worrying, I’d be dead.\\n\\nI know you meant well. \\\n",
    "Fear is not ideal. But life never is. You play with the hand you are dealt.\\n\\nPeace.\""
   ]
  },
  {
   "cell_type": "code",
   "execution_count": 119,
   "metadata": {},
   "outputs": [
    {
     "data": {
      "image/png": "[encoded data removed]",
      "text/plain": [
       "<Figure size 640x480 with 1 Axes>"
      ]
     },
     "metadata": {},
     "output_type": "display_data"
    }
   ],
   "source": [
    "give_prediction_from_text(text)"
   ]
  },
  {
   "cell_type": "markdown",
   "metadata": {},
   "source": [
    "Very close to the real labels, (Anger, Disgust, Fear, Pessimism) "
   ]
  },
  {
   "cell_type": "markdown",
   "metadata": {},
   "source": [
    "The main drawback of the model is shown below. For small texts, it isn't able to give strong prediction for any emotion."
   ]
  },
  {
   "cell_type": "code",
   "execution_count": 126,
   "metadata": {},
   "outputs": [
    {
     "data": {
      "image/png": "[encoded data removed]",
      "text/plain": [
       "<Figure size 640x480 with 1 Axes>"
      ]
     },
     "metadata": {},
     "output_type": "display_data"
    }
   ],
   "source": [
    "give_prediction_from_text(\"i love you very much. More than you love me. Thats for sure\")"
   ]
  },
  {
   "cell_type": "code",
   "execution_count": null,
   "metadata": {},
   "outputs": [],
   "source": []
  }
 ],
 "metadata": {
  "kernelspec": {
   "display_name": "Python 3",
   "language": "python",
   "name": "python3"
  },
  "language_info": {
   "codemirror_mode": {
    "name": "ipython",
    "version": 3
   },
   "file_extension": ".py",
   "mimetype": "text/x-python",
   "name": "python",
   "nbconvert_exporter": "python",
   "pygments_lexer": "ipython3",
   "version": "3.6.5"
  }
 },
 "nbformat": 4,
 "nbformat_minor": 2
}
